{
 "cells": [
  {
   "cell_type": "markdown",
   "metadata": {},
   "source": [
    "# What day of the week over the past year had the most commits?"
   ]
  },
  {
   "cell_type": "code",
   "execution_count": 4,
   "metadata": {
    "collapsed": false
   },
   "outputs": [
    {
     "name": "stderr",
     "output_type": "stream",
     "text": [
      "//anaconda/lib/python2.7/site-packages/matplotlib/font_manager.py:273: UserWarning: Matplotlib is building the font cache using fc-list. This may take a moment.\n",
      "  warnings.warn('Matplotlib is building the font cache using fc-list. This may take a moment.')\n"
     ]
    },
    {
     "name": "stdout",
     "output_type": "stream",
     "text": [
      "Sun       5.0\n",
      "Mon       7.0\n",
      "Tues     12.0\n",
      "Weds      4.0\n",
      "Thurs     4.0\n",
      "Fri      10.0\n",
      "Sat       4.0\n",
      "dtype: float64\n"
     ]
    }
   ],
   "source": [
    "import requests\n",
    "import json\n",
    "import pandas as pd\n",
    "import sys\n",
    "import os\n",
    "sys.path.append(os.path.expanduser('~/anaconda/lib/python2.7/site-packages'))\n",
    "import seaborn as sns\n",
    "\n",
    "url= 'https://api.github.com/repos/d3/d3/stats/commit_activity'\n",
    "r = requests.get(url)\n",
    "\n",
    "cols = ['Sun','Mon','Tues','Weds','Thurs','Fri','Sat']\n",
    "df = pd.DataFrame(columns=cols)\n",
    "for i, x in enumerate(r.json()):\n",
    "    df.loc[i, :] = x['days']\n",
    "total_commits_df = df.sum(axis=0)\n",
    "print total_commits_df"
   ]
  },
  {
   "cell_type": "markdown",
   "metadata": {},
   "source": [
    "## Tuesday had the most commits with 12 \n",
    "\n",
    "# Plot commit results"
   ]
  },
  {
   "cell_type": "code",
   "execution_count": 5,
   "metadata": {
    "collapsed": false
   },
   "outputs": [
    {
     "data": {
      "text/plain": [
       "<matplotlib.text.Text at 0x115b1d0d0>"
      ]
     },
     "execution_count": 5,
     "metadata": {},
     "output_type": "execute_result"
    },
    {
     "data": {
      "image/png": "[encoded data removed]",
      "text/plain": [
       "<matplotlib.figure.Figure at 0x112cc1690>"
      ]
     },
     "metadata": {},
     "output_type": "display_data"
    }
   ],
   "source": [
    "%matplotlib inline\n",
    "ax = sns.barplot(x =total_commits_df.index, y= total_commits_df.values)\n",
    "ax.set_ylabel('total commits')\n",
    "ax.set_title('Total Commits Over Past Year per Day of Week')"
   ]
  },
  {
   "cell_type": "code",
   "execution_count": null,
   "metadata": {
    "collapsed": true
   },
   "outputs": [],
   "source": []
  }
 ],
 "metadata": {
  "anaconda-cloud": {},
  "kernelspec": {
   "display_name": "Python [Root]",
   "language": "python",
   "name": "Python [Root]"
  },
  "language_info": {
   "codemirror_mode": {
    "name": "ipython",
    "version": 2
   },
   "file_extension": ".py",
   "mimetype": "text/x-python",
   "name": "python",
   "nbconvert_exporter": "python",
   "pygments_lexer": "ipython2",
   "version": "2.7.12"
  }
 },
 "nbformat": 4,
 "nbformat_minor": 0
}
