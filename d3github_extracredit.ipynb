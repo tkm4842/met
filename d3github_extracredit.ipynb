{
 "cells": [
  {
   "cell_type": "markdown",
   "metadata": {},
   "source": [
    "# Which week in the last year had the most number of commits?"
   ]
  },
  {
   "cell_type": "code",
   "execution_count": 15,
   "metadata": {
    "collapsed": false,
    "scrolled": true
   },
   "outputs": [],
   "source": [
    "import requests\n",
    "import json\n",
    "import pandas as pd\n",
    "\n",
    "url= 'https://api.github.com/repos/d3/d3/stats/commit_activity'\n",
    "r = requests.get(url)\n"
   ]
  },
  {
   "cell_type": "code",
   "execution_count": 14,
   "metadata": {
    "collapsed": false
   },
   "outputs": [
    {
     "name": "stdout",
     "output_type": "stream",
     "text": [
      "                   week  total_commits\n",
      "48  2018-01-27 16:00:00            6.0\n"
     ]
    }
   ],
   "source": [
    "import time\n",
    "cols = ['week','total_commits']\n",
    "df = pd.DataFrame(columns=cols)\n",
    "for i, x in enumerate(r.json()):\n",
    "    df.loc[i, :] = x['week'],x['total']\n",
    "    \n",
    "df['week']= df['week'].map(lambda x: time.strftime('%Y-%m-%d %H:%M:%S', time.localtime(x)))\n",
    "print df[df['total_commits']==df['total_commits'].max()]"
   ]
  },
  {
   "cell_type": "markdown",
   "metadata": {},
   "source": [
    "The week of '2018-01-27 16:00:00' had the most commits with 6."
   ]
  },
  {
   "cell_type": "markdown",
   "metadata": {},
   "source": [
    "# How many commits did the other contributors make?"
   ]
  },
  {
   "cell_type": "code",
   "execution_count": 22,
   "metadata": {
    "collapsed": false
   },
   "outputs": [
    {
     "name": "stdout",
     "output_type": "stream",
     "text": [
      "There are 100 contributors including owner 'mbostock' \n"
     ]
    }
   ],
   "source": [
    "url= 'https://api.github.com/repos/d3/d3/stats/contributors'\n",
    "r = requests.get(url)\n",
    "\n",
    "cols = ['author_id', 'total_commits']\n",
    "df = pd.DataFrame(columns=cols)\n",
    "for i, x in enumerate(r.json()):\n",
    "    df.loc[i,:] = x['author']['login'], x['total']\n",
    "\n",
    "print \"There are \"+ str(len(df)) +\" contributors including owner 'mbostock' \"\n",
    "\n"
   ]
  },
  {
   "cell_type": "code",
   "execution_count": 23,
   "metadata": {
    "collapsed": false
   },
   "outputs": [
    {
     "name": "stdout",
     "output_type": "stream",
     "text": [
      "Owner mbostock made 2319 commmits.\n",
      "       author_id total_commits\n",
      "93        natevw            11\n",
      "94  larskotthoff            11\n",
      "95        yasirs            11\n",
      "96      27359794            24\n",
      "97    kitmonisit            50\n",
      "98   jasondavies           755\n",
      "99      mbostock          2319\n"
     ]
    }
   ],
   "source": [
    "mbostock_commits = df[df['author_id']=='mbostock']['total_commits'].values[0]\n",
    "print \"Owner mbostock made \"+str(mbostock_commits)+\" commmits.\"\n",
    "\n",
    "jasondavies_commits = df[df['author_id']=='jasondavies']['total_commits'].values[0]\n",
    "\n",
    "print df[df['total_commits']>10]"
   ]
  },
  {
   "cell_type": "markdown",
   "metadata": {},
   "source": [
    "\n",
    "Aside from the owner, there are only 6 other contributors with over 10 total commits. Contributor 'jasondavies' notably had 755, by far the most of the contributors. \n"
   ]
  },
  {
   "cell_type": "code",
   "execution_count": 24,
   "metadata": {
    "collapsed": false
   },
   "outputs": [
    {
     "name": "stdout",
     "output_type": "stream",
     "text": [
      "323\n"
     ]
    }
   ],
   "source": [
    "filter_authors = [a for a in df['author_id'] if a not in ['jasondavies','mbostock']]\n",
    "other_contrib_commmitstotal = df[df['author_id'].isin(filter_authors)]['total_commits'].sum()\n",
    "print other_contrib_commmitstotal"
   ]
  },
  {
   "cell_type": "code",
   "execution_count": null,
   "metadata": {
    "collapsed": true
   },
   "outputs": [],
   "source": []
  }
 ],
 "metadata": {
  "kernelspec": {
   "display_name": "Python [Root]",
   "language": "python",
   "name": "Python [Root]"
  },
  "language_info": {
   "codemirror_mode": {
    "name": "ipython",
    "version": 2
   },
   "file_extension": ".py",
   "mimetype": "text/x-python",
   "name": "python",
   "nbconvert_exporter": "python",
   "pygments_lexer": "ipython2",
   "version": "2.7.12"
  }
 },
 "nbformat": 4,
 "nbformat_minor": 0
}
