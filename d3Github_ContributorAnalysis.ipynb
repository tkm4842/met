{
 "cells": [
  {
   "cell_type": "markdown",
   "metadata": {},
   "source": [
    "# How many commits did the other contributors make?"
   ]
  },
  {
   "cell_type": "code",
   "execution_count": 2,
   "metadata": {
    "collapsed": false
   },
   "outputs": [
    {
     "name": "stdout",
     "output_type": "stream",
     "text": [
      "There are 100 contributors including owner 'mbostock' \n",
      "       author_id total_commits\n",
      "93        natevw            11\n",
      "94  larskotthoff            11\n",
      "95        yasirs            11\n",
      "96      27359794            24\n",
      "97    kitmonisit            50\n",
      "98   jasondavies           755\n",
      "99      mbostock          2319\n"
     ]
    }
   ],
   "source": [
    "import requests\n",
    "import pandas as pd\n",
    "\n",
    "url= 'https://api.github.com/repos/d3/d3/stats/contributors'\n",
    "r = requests.get(url)\n",
    "\n",
    "cols = ['author_id', 'total_commits']\n",
    "df = pd.DataFrame(columns=cols)\n",
    "for i, x in enumerate(r.json()):\n",
    "    df.loc[i,:] = x['author']['login'], x['total']\n",
    "\n",
    "print \"There are \"+ str(len(df)) +\" contributors including owner 'mbostock' \"\n",
    "\n",
    "mbostock_commits = df[df['author_id']=='mbostock']['total_commits'][0]\n",
    "print mbostock_commits\n",
    "\n",
    "print df[df['total_commits']>10]"
   ]
  },
  {
   "cell_type": "code",
   "execution_count": 6,
   "metadata": {
    "collapsed": false,
    "scrolled": true
   },
   "outputs": [
    {
     "name": "stdout",
     "output_type": "stream",
     "text": [
      "Owner mbostock made 2319 commmits.\n"
     ]
    }
   ],
   "source": [
    "mbostock_commits = df[df['author_id']=='mbostock']['total_commits'].values[0]\n",
    "print \"Owner mbostock made \"+str(mbostock_commits)+\" commmits.\"\n"
   ]
  },
  {
   "cell_type": "code",
   "execution_count": 11,
   "metadata": {
    "collapsed": false
   },
   "outputs": [
    {
     "name": "stdout",
     "output_type": "stream",
     "text": [
      "       author_id total_commits\n",
      "93        natevw            11\n",
      "94  larskotthoff            11\n",
      "95        yasirs            11\n",
      "96      27359794            24\n",
      "97    kitmonisit            50\n",
      "98   jasondavies           755\n",
      "99      mbostock          2319\n"
     ]
    }
   ],
   "source": [
    "print df[df['total_commits']>10]\n",
    "\n",
    "jasondavies_commits = df[df['author_id']=='jasondavies']['total_commits'].values[0]\n"
   ]
  },
  {
   "cell_type": "markdown",
   "metadata": {},
   "source": [
    "Aside from the owner, there are only 6 other contributors with over 10 total commits. Contributor 'jasondavies' notably had 755, by far the most of the contributors. "
   ]
  },
  {
   "cell_type": "code",
   "execution_count": 9,
   "metadata": {
    "collapsed": false
   },
   "outputs": [
    {
     "name": "stdout",
     "output_type": "stream",
     "text": [
      "323\n"
     ]
    }
   ],
   "source": [
    "filter_authors = [a for a in df['author_id'] if a not in ['jasondavies','mbostock']]\n",
    "other_contrib_commmitstotal = df[df['author_id'].isin(filter_authors)]['total_commits'].sum()\n",
    "print other_contrib_commmitstotal"
   ]
  },
  {
   "cell_type": "markdown",
   "metadata": {},
   "source": [
    "Contributor jasondavies had more than double than the total commits of the other contributors combined."
   ]
  },
  {
   "cell_type": "code",
   "execution_count": 13,
   "metadata": {
    "collapsed": false
   },
   "outputs": [
    {
     "data": {
      "text/plain": [
       "<matplotlib.text.Text at 0x118c07d90>"
      ]
     },
     "execution_count": 13,
     "metadata": {},
     "output_type": "execute_result"
    },
    {
     "data": {
      "image/png": "[encoded data removed]",
      "text/plain": [
       "<matplotlib.figure.Figure at 0x115b648d0>"
      ]
     },
     "metadata": {},
     "output_type": "display_data"
    }
   ],
   "source": [
    "%matplotlib inline\n",
    "import sys\n",
    "import os\n",
    "sys.path.append(os.path.expanduser('~/anaconda/lib/python2.7/site-packages'))\n",
    "import seaborn as sns\n",
    "\n",
    "cols = ['all_other_contributors','jasondavies','mbostock']\n",
    "df = pd.Series(index=cols)\n",
    "df['all_other_contributors'] = other_contrib_commmitstotal\n",
    "df['jasondavies'] = jasondavies_commits\n",
    "df['mbostock'] = mbostock_commits\n",
    "\n",
    "ax = sns.barplot(x = df.index, y= df.values)\n",
    "ax.set_ylabel('total commits')\n",
    "ax.set_title('Total Commits Over Past Year')"
   ]
  },
  {
   "cell_type": "code",
   "execution_count": null,
   "metadata": {
    "collapsed": true
   },
   "outputs": [],
   "source": []
  }
 ],
 "metadata": {
  "kernelspec": {
   "display_name": "Python [Root]",
   "language": "python",
   "name": "Python [Root]"
  },
  "language_info": {
   "codemirror_mode": {
    "name": "ipython",
    "version": 2
   },
   "file_extension": ".py",
   "mimetype": "text/x-python",
   "name": "python",
   "nbconvert_exporter": "python",
   "pygments_lexer": "ipython2",
   "version": "2.7.12"
  }
 },
 "nbformat": 4,
 "nbformat_minor": 0
}
